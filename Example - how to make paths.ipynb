{
 "cells": [
  {
   "cell_type": "markdown",
   "id": "d821c88d",
   "metadata": {},
   "source": [
    "# Initialize the API"
   ]
  },
  {
   "cell_type": "code",
   "execution_count": null,
   "id": "a25cf147",
   "metadata": {},
   "outputs": [],
   "source": [
    "import sevenbridges as sbg\n",
    "\n",
    "from sevenbridges.http.error_handlers import \\\n",
    "    general_error_sleeper, maintenance_sleeper, rate_limit_sleeper\n",
    "\n",
    "\n",
    "api = sbg.Api(\n",
    "    error_handlers=[\n",
    "        rate_limit_sleeper,\n",
    "        maintenance_sleeper,\n",
    "        general_error_sleeper\n",
    "    ]\n",
    ")\n"
   ]
  },
  {
   "cell_type": "markdown",
   "id": "431b3b82",
   "metadata": {},
   "source": [
    "## Collect the project from the platform"
   ]
  },
  {
   "cell_type": "code",
   "execution_count": null,
   "id": "acbcaa7f",
   "metadata": {},
   "outputs": [],
   "source": [
    "project = api.projects.get('id')"
   ]
  },
  {
   "cell_type": "markdown",
   "id": "178d90bd",
   "metadata": {},
   "source": [
    "## Get files"
   ]
  },
  {
   "cell_type": "code",
   "execution_count": null,
   "id": "a0759a30",
   "metadata": {},
   "outputs": [],
   "source": [
    "all_files = list(api.files.query(project=project).all())\n",
    "\n",
    "for file in all_files:\n",
    "    print(file.name, 'folder' if file.is_folder() else 'file', file.id, sep='\\t')"
   ]
  },
  {
   "cell_type": "markdown",
   "id": "24774e8b",
   "metadata": {},
   "source": [
    "## Create a folder path (from project root)"
   ]
  },
  {
   "cell_type": "code",
   "execution_count": null,
   "id": "69fb2b09",
   "metadata": {},
   "outputs": [],
   "source": [
    "folder = api.files.get('id')\n",
    "\n",
    "path_to_folder = \"vs:///Projects/{project_root_name}/{folder_name}\".format(\n",
    "    project_root_name = api.files.get(project.root_folder).name,\n",
    "    folder_name = folder.name\n",
    ")"
   ]
  },
  {
   "cell_type": "markdown",
   "id": "f7746e9c",
   "metadata": {},
   "source": [
    "## Create a file path (from project root)"
   ]
  },
  {
   "cell_type": "code",
   "execution_count": null,
   "id": "2f1de8f0",
   "metadata": {},
   "outputs": [],
   "source": [
    "file = api.files.get('id')\n",
    "\n",
    "path_to_file = \"vs:///Projects/{project_root_name}/{folder_name}\".format(\n",
    "    project_root_name = api.files.get(project.root_folder).name,\n",
    "    folder_name = file.name\n",
    ")"
   ]
  },
  {
   "cell_type": "markdown",
   "id": "592cb764",
   "metadata": {},
   "source": [
    "## Get the path, starting from file\n",
    "This one is more useful if the file is not in the project root"
   ]
  },
  {
   "cell_type": "code",
   "execution_count": null,
   "id": "fe8fee04",
   "metadata": {},
   "outputs": [],
   "source": [
    "file = api.files.get('id')\n",
    "\n",
    "project_root = api.projects.get(file.project).root_folder\n",
    "\n",
    "path = []\n",
    "parent = None\n",
    "current_file = file\n",
    "while parent != project_root:\n",
    "    parent = current_file.parent\n",
    "    print(parent)\n",
    "    path.append(current_file.name)\n",
    "    current_file = api.files.get(parent)\n",
    "\n",
    "path.append(api.files.get(project_root).name)\n",
    "\n",
    "file_path = \"vs:///Projects/\" + \"/\".join(path[::-1])"
   ]
  }
 ],
 "metadata": {
  "kernelspec": {
   "display_name": "Python 3",
   "language": "python",
   "name": "python3"
  },
  "language_info": {
   "codemirror_mode": {
    "name": "ipython",
    "version": 3
   },
   "file_extension": ".py",
   "mimetype": "text/x-python",
   "name": "python",
   "nbconvert_exporter": "python",
   "pygments_lexer": "ipython3",
   "version": "3.9.4"
  }
 },
 "nbformat": 4,
 "nbformat_minor": 5
}
